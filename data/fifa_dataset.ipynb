{
 "cells": [
  {
   "cell_type": "markdown",
   "metadata": {},
   "source": [
    "# EA FC 24 Player Data Analysis\n",
    "\n",
    "This notebook loads and preprocesses the EA FC 24 player dataset that will be used across various machine learning tasks in this project. The dataset contains comprehensive player statistics, attributes, and characteristics from EA FC 24.\n",
    "\n",
    "## Data Source\n",
    "The data is sourced from Kaggle's EA Sports FC 24 Complete Player Dataset, which includes detailed information about players such as:\n",
    "- Basic information (name, age, club, nationality)\n",
    "- Player attributes (pace, shooting, passing, etc.)\n",
    "- Position-specific ratings\n",
    "- Market value and contract details"
   ]
  },
  {
   "cell_type": "code",
   "execution_count": null,
   "metadata": {},
   "outputs": [],
   "source": [
    "from data_processing import load_fifa_data\n",
    "\n",
    "# Load the dataset\n",
    "players_df = load_fifa_data()\n",
    "players_df.head()"
   ]
  },
  {
   "cell_type": "markdown",
   "metadata": {},
   "source": [
    "## Dataset Structure\n",
    "Pre-exploration of the data in the dataset. This will help us understand what features we can use for our machine learning tasks."
   ]
  },
  {
   "cell_type": "code",
   "execution_count": null,
   "metadata": {},
   "outputs": [],
   "source": [
    "list(players_df.columns)"
   ]
  },
  {
   "cell_type": "markdown",
   "metadata": {},
   "source": [
    "## Data Filtering\n",
    "We'll make use only of data from the 2024 edition of FIFA. This eliminates duplicate players across different versions. It also simplifies our analysis, letting us focus on data from the most recently completed season, the 2023-2024. "
   ]
  },
  {
   "cell_type": "code",
   "execution_count": null,
   "metadata": {},
   "outputs": [],
   "source": [
    "players_df = players_df[players_df[\"fifa_version\"] == 24]\n",
    "players_df.head()"
   ]
  },
  {
   "cell_type": "markdown",
   "metadata": {},
   "source": [
    "## Data Export\n",
    "We'll save the modified dataset locally for use in other notebooks."
   ]
  },
  {
   "cell_type": "code",
   "execution_count": 12,
   "metadata": {},
   "outputs": [],
   "source": [
    "players_df.to_csv(\"players_data.csv\")"
   ]
  }
 ],
 "metadata": {
  "kernelspec": {
   "display_name": "base",
   "language": "python",
   "name": "python3"
  },
  "language_info": {
   "codemirror_mode": {
    "name": "ipython",
    "version": 3
   },
   "file_extension": ".py",
   "mimetype": "text/x-python",
   "name": "python",
   "nbconvert_exporter": "python",
   "pygments_lexer": "ipython3",
   "version": "3.11.11"
  }
 },
 "nbformat": 4,
 "nbformat_minor": 2
}
