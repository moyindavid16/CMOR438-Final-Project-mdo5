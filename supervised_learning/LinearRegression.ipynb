{
 "cells": [
  {
   "cell_type": "markdown",
   "metadata": {},
   "source": [
    "# Linear Regression: Predicting Player Market Values\n",
    "\n",
    "## What is Linear Regression?\n",
    "Linear regression is a fundamental supervised learning algorithm that models the relationship between a dependent variable (target) and one or more independent variables (features). It works by:\n",
    "1. Finding the best-fitting line through the data points\n",
    "2. Minimizing the mean squared error between predictions and actual values\n",
    "3. Providing continuous value predictions\n",
    "\n",
    "## Our Task\n",
    "We'll use linear regression to predict EA FC 24 player market values based on their attributes. This regression task will demonstrate how we can estimate continuous values (market prices) based on player statistics."
   ]
  },
  {
   "cell_type": "markdown",
   "metadata": {},
   "source": [
    "## Implementation"
   ]
  },
  {
   "cell_type": "code",
   "execution_count": null,
   "metadata": {},
   "outputs": [],
   "source": [
    "import matplotlib.pyplot as plt\n",
    "import numpy as np\n",
    "import pandas as pd\n",
    "import seaborn as sns\n",
    "\n",
    "def identity(z):\n",
    "    return z\n",
    "\n",
    "def mean_squared_error(y_hat, y):\n",
    "    return 0.5 * (y_hat - y)**2\n",
    "\n",
    "class SingleNeuron(object):\n",
    "    def __init__(self, activation_function, cost_function):\n",
    "        self.activation_function = activation_function\n",
    "        self.cost_function = cost_function\n",
    "\n",
    "    def train(self, X, y, alpha = 0.005, epochs = 50):\n",
    "        self.w_ = np.random.rand(1 + X.shape[1])\n",
    "        self.errors_ = []\n",
    "        N = X.shape[0]\n",
    "\n",
    "        for _ in range(epochs):\n",
    "            errors = 0\n",
    "            for xi, target in zip(X, y):\n",
    "                error = (self.predict(xi) - target)\n",
    "                self.w_[:-1] -= alpha*error*xi\n",
    "                self.w_[-1] -= alpha*error\n",
    "                errors += self.cost_function(self.predict(xi), target)\n",
    "            self.errors_.append(errors/N)\n",
    "        return self\n",
    "\n",
    "    def predict(self, X):\n",
    "        preactivation = np.dot(X, self.w_[:-1]) + self.w_[-1]\n",
    "        return self.activation_function(preactivation)"
   ]
  },
  {
   "cell_type": "markdown",
   "metadata": {},
   "source": [
    "## Understanding Our Dataset\n",
    "Let's examine the key attributes we'll use to predict player market values:\n",
    "- Overall Rating (primary indicator of player quality)\n",
    "- Key Performance Stats (pace, shooting, passing, dribbling, defending, physical)\n",
    "- Age (younger players often have higher market value potential)\n",
    "\n",
    "We'll use these attributes to predict the market value of players. The relationship between these features and market value is expected to be roughly linear, making linear regression a suitable choice."
   ]
  },
  {
   "cell_type": "code",
   "execution_count": null,
   "metadata": {},
   "outputs": [],
   "source": [
    "from sklearn.model_selection import train_test_split\n",
    "from sklearn.preprocessing import StandardScaler\n",
    "\n",
    "players_df = pd.read_csv(\"../data/players_data.csv\")\n",
    "\n",
    "# Select features for prediction\n",
    "features = [\"overall\", \"age\", \"pace\", \"shooting\", \"passing\", \"dribbling\", \"defending\", \"physic\"]\n",
    "X = players_df[features].values\n",
    "y = players_df['value_eur'].values\n",
    "\n",
    "# Scale features and target\n",
    "scaler_X = StandardScaler()\n",
    "scaler_y = StandardScaler()\n",
    "\n",
    "X_scaled = scaler_X.fit_transform(X)\n",
    "y_scaled = scaler_y.fit_transform(y.reshape(-1, 1)).ravel()\n",
    "\n",
    "X_train, X_test, y_train, y_test = train_test_split(X_scaled, y_scaled, test_size=0.3, random_state=42)\n",
    "\n",
    "print(f\"Training set shape: {X_train.shape}\")\n",
    "print(f\"Test set shape: {X_test.shape}\")"
   ]
  },
  {
   "cell_type": "markdown",
   "metadata": {},
   "source": [
    "## Model Training"
   ]
  },
  {
   "cell_type": "code",
   "execution_count": null,
   "metadata": {},
   "outputs": [],
   "source": [
    "# Set the Seaborn theme\n",
    "sns.set_theme()\n",
    "\n",
    "# Instantiate and train the linear regression model\n",
    "clf = SingleNeuron(activation_function=identity, cost_function=mean_squared_error)\n",
    "clf.train(X_train, y_train, epochs=1000, alpha=0.01)"
   ]
  },
  {
   "cell_type": "markdown",
   "metadata": {},
   "source": [
    "## Feature Importance Analysis\n",
    "Let's analyze which features have the strongest influence on player market values."
   ]
  },
  {
   "cell_type": "code",
   "execution_count": null,
   "metadata": {},
   "outputs": [],
   "source": [
    "# Feature importance plot\n",
    "plt.figure(figsize=(10, 6))\n",
    "feature_importance = pd.DataFrame({\n",
    "    'Feature': features,\n",
    "    'Weight': clf.w_[:-1]  # excluding bias weight\n",
    "})\n",
    "feature_importance = feature_importance.sort_values('Weight', ascending=True, key=abs)\n",
    "\n",
    "plt.barh(feature_importance['Feature'], feature_importance['Weight'])\n",
    "plt.title('Feature Importance in Market Value Prediction')\n",
    "plt.xlabel('Weight Magnitude')\n",
    "plt.show()"
   ]
  },
  {
   "cell_type": "markdown",
   "metadata": {},
   "source": [
    "## Model Performance Evaluation"
   ]
  },
  {
   "cell_type": "code",
   "execution_count": null,
   "metadata": {},
   "outputs": [],
   "source": [
    "from sklearn.metrics import r2_score, mean_squared_error\n",
    "\n",
    "# Make predictions\n",
    "y_pred = clf.predict(X_test)\n",
    "\n",
    "# Calculate R-squared score\n",
    "r2 = r2_score(y_test, y_pred)\n",
    "mse = mean_squared_error(y_test, y_pred)\n",
    "\n",
    "print(f\"R-squared score: {r2:.4f}\")\n",
    "print(f\"Mean squared error: {mse:.4f}\")\n",
    "\n",
    "# Plot actual vs predicted values\n",
    "plt.figure(figsize=(10, 6))\n",
    "plt.scatter(y_test, y_pred, alpha=0.5)\n",
    "plt.plot([y_test.min(), y_test.max()], [y_test.min(), y_test.max()], 'r--', lw=2)\n",
    "plt.xlabel('Actual Market Value (Standardized)')\n",
    "plt.ylabel('Predicted Market Value (Standardized)')\n",
    "plt.title('Actual vs Predicted Market Values')\n",
    "plt.tight_layout()\n",
    "plt.show()"
   ]
  }
 ],
 "metadata": {
  "language_info": {
   "name": "python"
  }
 },
 "nbformat": 4,
 "nbformat_minor": 2
}
